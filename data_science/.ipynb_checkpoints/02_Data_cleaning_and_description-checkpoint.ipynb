{
 "cells": [
  {
   "cell_type": "markdown",
   "metadata": {},
   "source": [
    "# DATA CLEANING AND DESCRPTION\n",
    "\n",
    "\n",
    "This notebook explores the vehicular flow data and gives insights about the variables and the quantity of vehicules"
   ]
  },
  {
   "cell_type": "code",
   "execution_count": 1,
   "metadata": {},
   "outputs": [],
   "source": [
    "#LOADS LIBRARIES\n",
    "import os\n",
    "import sys\n",
    "import warnings\n",
    "warnings.simplefilter('ignore')\n",
    "import pickle\n",
    "#import dill as pickle\n",
    "\n",
    "import numpy as np\n",
    "import pandas as pd\n",
    "import math\n",
    "\n",
    "import time \n",
    "import datetime\n",
    "from dateutil.relativedelta import relativedelta"
   ]
  },
  {
   "cell_type": "code",
   "execution_count": 2,
   "metadata": {},
   "outputs": [],
   "source": [
    "import matplotlib.pyplot as plt\n",
    "import seaborn as sns\n",
    "#sns.set()\n",
    "#sns.reset_orig\n",
    "#matplotlib.rc_file_defaults()"
   ]
  },
  {
   "cell_type": "code",
   "execution_count": 3,
   "metadata": {},
   "outputs": [],
   "source": [
    "# Defines the storage directories\n",
    "OUTPUT_DIR = os.getcwd() + '/results/'"
   ]
  },
  {
   "cell_type": "markdown",
   "metadata": {},
   "source": [
    "# Data description"
   ]
  },
  {
   "cell_type": "code",
   "execution_count": 4,
   "metadata": {},
   "outputs": [
    {
     "name": "stdout",
     "output_type": "stream",
     "text": [
      "(54147, 5)\n",
      "\n",
      "\n",
      "date\n",
      "set_description\n",
      "q_current\n",
      "store\n",
      "q_predicted\n"
     ]
    }
   ],
   "source": [
    "#Call the analysis data frame\n",
    "\n",
    "df_analysis = pd.read_pickle(OUTPUT_DIR + 'df_temporalsales_s1.pkl')\n",
    "\n",
    "print(df_analysis.shape)\n",
    "print('\\n')\n",
    "\n",
    "for c in df_analysis.columns.tolist():\n",
    "    print(c)"
   ]
  },
  {
   "cell_type": "code",
   "execution_count": 6,
   "metadata": {},
   "outputs": [
    {
     "name": "stdout",
     "output_type": "stream",
     "text": [
      "(51843, 5)\n"
     ]
    }
   ],
   "source": [
    "df_analysis = df_analysis[df_analysis['set_description']=='1_TRAIN'].copy()\n",
    "print(df_analysis.shape)"
   ]
  },
  {
   "cell_type": "code",
   "execution_count": 7,
   "metadata": {},
   "outputs": [
    {
     "data": {
      "text/html": [
       "<div>\n",
       "<style scoped>\n",
       "    .dataframe tbody tr th:only-of-type {\n",
       "        vertical-align: middle;\n",
       "    }\n",
       "\n",
       "    .dataframe tbody tr th {\n",
       "        vertical-align: top;\n",
       "    }\n",
       "\n",
       "    .dataframe thead th {\n",
       "        text-align: right;\n",
       "    }\n",
       "</style>\n",
       "<table border=\"1\" class=\"dataframe\">\n",
       "  <thead>\n",
       "    <tr style=\"text-align: right;\">\n",
       "      <th></th>\n",
       "      <th>date</th>\n",
       "      <th>set_description</th>\n",
       "      <th>q_current</th>\n",
       "      <th>store</th>\n",
       "      <th>q_predicted</th>\n",
       "    </tr>\n",
       "  </thead>\n",
       "  <tbody>\n",
       "    <tr>\n",
       "      <th>0</th>\n",
       "      <td>2021-01-01</td>\n",
       "      <td>1_TRAIN</td>\n",
       "      <td>87.0</td>\n",
       "      <td>1.0</td>\n",
       "      <td>NaN</td>\n",
       "    </tr>\n",
       "    <tr>\n",
       "      <th>1</th>\n",
       "      <td>2021-01-01</td>\n",
       "      <td>1_TRAIN</td>\n",
       "      <td>145.0</td>\n",
       "      <td>5.0</td>\n",
       "      <td>NaN</td>\n",
       "    </tr>\n",
       "    <tr>\n",
       "      <th>2</th>\n",
       "      <td>2021-01-01</td>\n",
       "      <td>1_TRAIN</td>\n",
       "      <td>49.0</td>\n",
       "      <td>9.0</td>\n",
       "      <td>NaN</td>\n",
       "    </tr>\n",
       "    <tr>\n",
       "      <th>3</th>\n",
       "      <td>2021-01-01</td>\n",
       "      <td>1_TRAIN</td>\n",
       "      <td>102.0</td>\n",
       "      <td>1.0</td>\n",
       "      <td>NaN</td>\n",
       "    </tr>\n",
       "    <tr>\n",
       "      <th>4</th>\n",
       "      <td>2021-01-01</td>\n",
       "      <td>1_TRAIN</td>\n",
       "      <td>170.0</td>\n",
       "      <td>5.0</td>\n",
       "      <td>NaN</td>\n",
       "    </tr>\n",
       "  </tbody>\n",
       "</table>\n",
       "</div>"
      ],
      "text/plain": [
       "        date set_description  q_current  store  q_predicted\n",
       "0 2021-01-01         1_TRAIN       87.0    1.0          NaN\n",
       "1 2021-01-01         1_TRAIN      145.0    5.0          NaN\n",
       "2 2021-01-01         1_TRAIN       49.0    9.0          NaN\n",
       "3 2021-01-01         1_TRAIN      102.0    1.0          NaN\n",
       "4 2021-01-01         1_TRAIN      170.0    5.0          NaN"
      ]
     },
     "execution_count": 7,
     "metadata": {},
     "output_type": "execute_result"
    }
   ],
   "source": [
    "df_analysis.head()"
   ]
  },
  {
   "cell_type": "code",
   "execution_count": 8,
   "metadata": {},
   "outputs": [
    {
     "data": {
      "text/html": [
       "<div>\n",
       "<style scoped>\n",
       "    .dataframe tbody tr th:only-of-type {\n",
       "        vertical-align: middle;\n",
       "    }\n",
       "\n",
       "    .dataframe tbody tr th {\n",
       "        vertical-align: top;\n",
       "    }\n",
       "\n",
       "    .dataframe thead th {\n",
       "        text-align: right;\n",
       "    }\n",
       "</style>\n",
       "<table border=\"1\" class=\"dataframe\">\n",
       "  <thead>\n",
       "    <tr style=\"text-align: right;\">\n",
       "      <th></th>\n",
       "      <th>date</th>\n",
       "      <th>set_description</th>\n",
       "      <th>q_current</th>\n",
       "      <th>store</th>\n",
       "      <th>q_predicted</th>\n",
       "    </tr>\n",
       "  </thead>\n",
       "  <tbody>\n",
       "    <tr>\n",
       "      <th>count</th>\n",
       "      <td>51843</td>\n",
       "      <td>51843</td>\n",
       "      <td>51843.000000</td>\n",
       "      <td>51843.000000</td>\n",
       "      <td>0.0</td>\n",
       "    </tr>\n",
       "    <tr>\n",
       "      <th>unique</th>\n",
       "      <td>361</td>\n",
       "      <td>1</td>\n",
       "      <td>NaN</td>\n",
       "      <td>NaN</td>\n",
       "      <td>NaN</td>\n",
       "    </tr>\n",
       "    <tr>\n",
       "      <th>top</th>\n",
       "      <td>2021-01-01 00:00:00</td>\n",
       "      <td>1_TRAIN</td>\n",
       "      <td>NaN</td>\n",
       "      <td>NaN</td>\n",
       "      <td>NaN</td>\n",
       "    </tr>\n",
       "    <tr>\n",
       "      <th>freq</th>\n",
       "      <td>144</td>\n",
       "      <td>51843</td>\n",
       "      <td>NaN</td>\n",
       "      <td>NaN</td>\n",
       "      <td>NaN</td>\n",
       "    </tr>\n",
       "    <tr>\n",
       "      <th>first</th>\n",
       "      <td>2021-01-01 00:00:00</td>\n",
       "      <td>NaN</td>\n",
       "      <td>NaN</td>\n",
       "      <td>NaN</td>\n",
       "      <td>NaN</td>\n",
       "    </tr>\n",
       "    <tr>\n",
       "      <th>last</th>\n",
       "      <td>2021-12-27 00:00:00</td>\n",
       "      <td>NaN</td>\n",
       "      <td>NaN</td>\n",
       "      <td>NaN</td>\n",
       "      <td>NaN</td>\n",
       "    </tr>\n",
       "    <tr>\n",
       "      <th>mean</th>\n",
       "      <td>NaN</td>\n",
       "      <td>NaN</td>\n",
       "      <td>47.969388</td>\n",
       "      <td>5.000000</td>\n",
       "      <td>NaN</td>\n",
       "    </tr>\n",
       "    <tr>\n",
       "      <th>std</th>\n",
       "      <td>NaN</td>\n",
       "      <td>NaN</td>\n",
       "      <td>44.802937</td>\n",
       "      <td>3.266018</td>\n",
       "      <td>NaN</td>\n",
       "    </tr>\n",
       "    <tr>\n",
       "      <th>min</th>\n",
       "      <td>NaN</td>\n",
       "      <td>NaN</td>\n",
       "      <td>0.000000</td>\n",
       "      <td>1.000000</td>\n",
       "      <td>NaN</td>\n",
       "    </tr>\n",
       "    <tr>\n",
       "      <th>25%</th>\n",
       "      <td>NaN</td>\n",
       "      <td>NaN</td>\n",
       "      <td>12.000000</td>\n",
       "      <td>1.000000</td>\n",
       "      <td>NaN</td>\n",
       "    </tr>\n",
       "    <tr>\n",
       "      <th>50%</th>\n",
       "      <td>NaN</td>\n",
       "      <td>NaN</td>\n",
       "      <td>37.000000</td>\n",
       "      <td>5.000000</td>\n",
       "      <td>NaN</td>\n",
       "    </tr>\n",
       "    <tr>\n",
       "      <th>75%</th>\n",
       "      <td>NaN</td>\n",
       "      <td>NaN</td>\n",
       "      <td>68.000000</td>\n",
       "      <td>9.000000</td>\n",
       "      <td>NaN</td>\n",
       "    </tr>\n",
       "    <tr>\n",
       "      <th>max</th>\n",
       "      <td>NaN</td>\n",
       "      <td>NaN</td>\n",
       "      <td>280.000000</td>\n",
       "      <td>9.000000</td>\n",
       "      <td>NaN</td>\n",
       "    </tr>\n",
       "  </tbody>\n",
       "</table>\n",
       "</div>"
      ],
      "text/plain": [
       "                       date set_description     q_current         store  \\\n",
       "count                 51843           51843  51843.000000  51843.000000   \n",
       "unique                  361               1           NaN           NaN   \n",
       "top     2021-01-01 00:00:00         1_TRAIN           NaN           NaN   \n",
       "freq                    144           51843           NaN           NaN   \n",
       "first   2021-01-01 00:00:00             NaN           NaN           NaN   \n",
       "last    2021-12-27 00:00:00             NaN           NaN           NaN   \n",
       "mean                    NaN             NaN     47.969388      5.000000   \n",
       "std                     NaN             NaN     44.802937      3.266018   \n",
       "min                     NaN             NaN      0.000000      1.000000   \n",
       "25%                     NaN             NaN     12.000000      1.000000   \n",
       "50%                     NaN             NaN     37.000000      5.000000   \n",
       "75%                     NaN             NaN     68.000000      9.000000   \n",
       "max                     NaN             NaN    280.000000      9.000000   \n",
       "\n",
       "        q_predicted  \n",
       "count           0.0  \n",
       "unique          NaN  \n",
       "top             NaN  \n",
       "freq            NaN  \n",
       "first           NaN  \n",
       "last            NaN  \n",
       "mean            NaN  \n",
       "std             NaN  \n",
       "min             NaN  \n",
       "25%             NaN  \n",
       "50%             NaN  \n",
       "75%             NaN  \n",
       "max             NaN  "
      ]
     },
     "execution_count": 8,
     "metadata": {},
     "output_type": "execute_result"
    }
   ],
   "source": [
    "#Computes the describe methode\n",
    "\n",
    "df_analysis.describe(include = 'all')"
   ]
  },
  {
   "cell_type": "code",
   "execution_count": 9,
   "metadata": {},
   "outputs": [
    {
     "name": "stdout",
     "output_type": "stream",
     "text": [
      "<class 'pandas.core.frame.DataFrame'>\n",
      "Int64Index: 51843 entries, 0 to 51842\n",
      "Data columns (total 5 columns):\n",
      " #   Column           Non-Null Count  Dtype         \n",
      "---  ------           --------------  -----         \n",
      " 0   date             51843 non-null  datetime64[ns]\n",
      " 1   set_description  51843 non-null  object        \n",
      " 2   q_current        51843 non-null  float64       \n",
      " 3   store            51843 non-null  float64       \n",
      " 4   q_predicted      0 non-null      float64       \n",
      "dtypes: datetime64[ns](1), float64(3), object(1)\n",
      "memory usage: 2.4+ MB\n"
     ]
    }
   ],
   "source": [
    "df_analysis.info()"
   ]
  },
  {
   "cell_type": "code",
   "execution_count": 10,
   "metadata": {},
   "outputs": [
    {
     "data": {
      "text/html": [
       "<div>\n",
       "<style scoped>\n",
       "    .dataframe tbody tr th:only-of-type {\n",
       "        vertical-align: middle;\n",
       "    }\n",
       "\n",
       "    .dataframe tbody tr th {\n",
       "        vertical-align: top;\n",
       "    }\n",
       "\n",
       "    .dataframe thead th {\n",
       "        text-align: right;\n",
       "    }\n",
       "</style>\n",
       "<table border=\"1\" class=\"dataframe\">\n",
       "  <thead>\n",
       "    <tr style=\"text-align: right;\">\n",
       "      <th></th>\n",
       "      <th>Missing Values</th>\n",
       "      <th>% of Total Values</th>\n",
       "    </tr>\n",
       "  </thead>\n",
       "  <tbody>\n",
       "    <tr>\n",
       "      <th>q_predicted</th>\n",
       "      <td>51843</td>\n",
       "      <td>100.0</td>\n",
       "    </tr>\n",
       "  </tbody>\n",
       "</table>\n",
       "</div>"
      ],
      "text/plain": [
       "             Missing Values  % of Total Values\n",
       "q_predicted           51843              100.0"
      ]
     },
     "execution_count": 10,
     "metadata": {},
     "output_type": "execute_result"
    }
   ],
   "source": [
    "#Table of missing values\n",
    "\n",
    "def missing_values_table(df):\n",
    "    \n",
    "    mis_val = df.isnull().sum()\n",
    "    mis_val_percent = 100 * df.isnull().sum() / len(df)\n",
    "    mis_val_table = pd.concat([mis_val, mis_val_percent], axis=1)\n",
    "    mis_val_table_ren_columns = mis_val_table.rename(\n",
    "    columns = {0 : 'Missing Values', 1 : '% of Total Values'})\n",
    "    mis_val_table_ren_columns = mis_val_table_ren_columns[\n",
    "        mis_val_table_ren_columns.iloc[:,1] != 0].sort_values(\n",
    "    '% of Total Values', ascending=False).round(1)\n",
    "    return mis_val_table_ren_columns\n",
    "\n",
    "missing_values_table(df_analysis)"
   ]
  },
  {
   "cell_type": "code",
   "execution_count": 34,
   "metadata": {},
   "outputs": [
    {
     "name": "stdout",
     "output_type": "stream",
     "text": [
      "\n",
      "Attribute- q_current :\n",
      "Q1 = 12.00\n",
      "Q3 = 68.00\n",
      "min_IQR = -72.00\n",
      "max_IQR = 152.00\n",
      "---> High outlier is found = 280.00\n",
      "###### Outliers has been interpolated ######\n",
      "\n",
      "Attribute- store :\n",
      "Q1 = 1.00\n",
      "Q3 = 9.00\n",
      "min_IQR = -11.00\n",
      "max_IQR = 21.00\n",
      "###### Outliers has been interpolated ######\n",
      "(51843, 5)\n"
     ]
    }
   ],
   "source": [
    "#Finds Outliers\n",
    "# Calculate quantile for each variable\n",
    "\n",
    "def calculate_quantile(i,df2):\n",
    "    Q1 = df2[[i]].quantile(0.25)[0]\n",
    "    Q3 = df2[[i]].quantile(0.75)[0]\n",
    "    IQR = Q3 - Q1\n",
    "    min = df2[[i]].min()[0]\n",
    "    max = df2[[i]].max()[0]\n",
    "    min_IQR = Q1 - 1.5*IQR\n",
    "    max_IQR = Q3 + 1.5*IQR\n",
    "    \n",
    "    return Q1, Q3, min, max, min_IQR, max_IQR\n",
    "\n",
    "\n",
    "#find and interpolate the outliers\n",
    "\n",
    "df_input = df_analysis.copy()\n",
    "ls_numcols = ['q_current','store']\n",
    "\n",
    "for i in ls_numcols:\n",
    "    print('\\nAttribute-',i,':')\n",
    "    Q1, Q3, min, max, min_IQR, max_IQR = calculate_quantile(i,df_input)\n",
    "    print('Q1 = %.2f' % Q1)\n",
    "    print('Q3 = %.2f' % Q3)\n",
    "    print('min_IQR = %.2f' % min_IQR)\n",
    "    print('max_IQR = %.2f' % max_IQR)\n",
    "    \n",
    "    if(min < min_IQR):\n",
    "        print('---> Low outlier is found = %.2f' %min)\n",
    "    if(max > max_IQR):\n",
    "        print('---> High outlier is found = %.2f' %max)\n",
    "        \n",
    "        \n",
    "    #Converting the outliers into nan in order to interpolate it\n",
    "\n",
    "    def convert_nan(x, max_IQR=max_IQR, min_IQR=min_IQR ):\n",
    "        if ((x > max_IQR) | (x < min_IQR)):\n",
    "            x = np.nan\n",
    "        else:\n",
    "            x=x\n",
    "        return x\n",
    "\n",
    "    df_input[i] = df_input[i].map(convert_nan)\n",
    "    df_input[i] = df_input[i].interpolate(method='linear')\n",
    "\n",
    "    if(len(df_input[df_input[i].isnull()][i])==0):\n",
    "        print('###### Outliers has been interpolated ######')\n",
    "\n",
    "        \n",
    "df_analysis_a = df_input.copy()\n",
    "print(df_analysis_a.shape)"
   ]
  },
  {
   "cell_type": "markdown",
   "metadata": {},
   "source": [
    "# Managing missing values"
   ]
  },
  {
   "cell_type": "code",
   "execution_count": 35,
   "metadata": {},
   "outputs": [
    {
     "data": {
      "text/plain": [
       "['date', 'set_description', 'q_current', 'store']"
      ]
     },
     "execution_count": 35,
     "metadata": {},
     "output_type": "execute_result"
    }
   ],
   "source": [
    "#Excludes columns with high index of missing values\n",
    "\n",
    "ls_excludecols = ['q_predicted']\n",
    "\n",
    "ls_ttcols = df_analysis_a.columns.tolist()\n",
    "ls_ttcols = [x for x in ls_ttcols if x not in ls_excludecols]\n",
    "ls_ttcols\n",
    "\n",
    "df_analysis_01 = df_analysis_a[ls_ttcols].copy()\n",
    "df_analysis_01.columns.tolist()\n"
   ]
  },
  {
   "cell_type": "code",
   "execution_count": 36,
   "metadata": {},
   "outputs": [
    {
     "name": "stdout",
     "output_type": "stream",
     "text": [
      "(51843, 4)\n"
     ]
    }
   ],
   "source": [
    "#Removes missing values\n",
    "#Here it was not decided to implement an imputation procedure\n",
    "\n",
    "df_analysis_02 = df_analysis_01.dropna().copy()\n",
    "\n",
    "print(df_analysis_02.shape)\n"
   ]
  },
  {
   "cell_type": "code",
   "execution_count": 37,
   "metadata": {},
   "outputs": [
    {
     "name": "stdout",
     "output_type": "stream",
     "text": [
      "   index  store\n",
      "0    1.0  17281\n",
      "1    5.0  17281\n",
      "2    9.0  17281\n"
     ]
    }
   ],
   "source": [
    "print(df_analysis_02['store'].value_counts(dropna=False).reset_index().sort_values(['index'])) "
   ]
  },
  {
   "cell_type": "code",
   "execution_count": 38,
   "metadata": {},
   "outputs": [
    {
     "name": "stdout",
     "output_type": "stream",
     "text": [
      "(51843, 4)\n"
     ]
    }
   ],
   "source": [
    "#Additional removals after seeing the data observation\n",
    "\n",
    "df_analysis_02 = df_analysis_02[df_analysis_02['store']!='NAN']\n",
    "print(df_analysis_02.shape)"
   ]
  },
  {
   "cell_type": "markdown",
   "metadata": {},
   "source": [
    "# Target variable observation"
   ]
  },
  {
   "cell_type": "code",
   "execution_count": 39,
   "metadata": {},
   "outputs": [
    {
     "name": "stdout",
     "output_type": "stream",
     "text": [
      "date\n",
      "set_description\n",
      "\n",
      "\n",
      "q_current\n",
      "store\n"
     ]
    }
   ],
   "source": [
    "# Defines ctegorical and numerical variables\n",
    "\n",
    "df_informats = df_analysis_02.dtypes.reset_index()\n",
    "df_informats\n",
    "\n",
    "ls_catcols = []\n",
    "ls_numcols = []\n",
    "for i in range(len(df_informats)):\n",
    "    \n",
    "    df_row = df_informats.iloc[i,:]\n",
    "    column = df_row.iloc[0]\n",
    "    formatt = str(df_row.iloc[1])\n",
    "    \n",
    "    if formatt=='object':\n",
    "        ls_catcols.append(column)\n",
    "    if 'date' in formatt:\n",
    "        ls_catcols.append(column)\n",
    "        \n",
    "    if 'int' in formatt:\n",
    "        ls_numcols.append(column)\n",
    "    if 'float' in formatt:\n",
    "        ls_numcols.append(column)\n",
    "\n",
    "        \n",
    "for c in ls_catcols:\n",
    "    print(c)\n",
    "\n",
    "print('\\n')\n",
    "\n",
    "for c in ls_numcols:\n",
    "    print(c)"
   ]
  },
  {
   "cell_type": "code",
   "execution_count": 40,
   "metadata": {},
   "outputs": [
    {
     "data": {
      "text/plain": [
       "count    51843.000000\n",
       "mean        43.940571\n",
       "std         36.060995\n",
       "min          0.000000\n",
       "25%         12.000000\n",
       "50%         37.000000\n",
       "75%         66.000000\n",
       "max        152.000000\n",
       "Name: q_current, dtype: float64"
      ]
     },
     "execution_count": 40,
     "metadata": {},
     "output_type": "execute_result"
    }
   ],
   "source": [
    "df_analysis_02['q_current'].describe(include = 'all')"
   ]
  },
  {
   "cell_type": "code",
   "execution_count": 47,
   "metadata": {},
   "outputs": [
    {
     "name": "stdout",
     "output_type": "stream",
     "text": [
      "Skewness:  0.8387519396088274\n",
      "Kurtosis:  -0.008602253130883586\n"
     ]
    },
    {
     "data": {
      "image/png": "[encoded data removed]",
      "text/plain": [
       "<Figure size 648x288 with 1 Axes>"
      ]
     },
     "metadata": {
      "needs_background": "light"
     },
     "output_type": "display_data"
    }
   ],
   "source": [
    "#Defines the structure od the plot\n",
    "fig, axes = plt.subplots(figsize=(9, 4))\n",
    "fig.suptitle('Description for: q_current')\n",
    "\n",
    "#Histogram plot\n",
    "sns.distplot(df_analysis_02['q_current'],\n",
    "             hist=True, \n",
    "             bins=20, \n",
    "             color = 'darkred', \n",
    "             hist_kws={'edgecolor':'black'},\n",
    "             kde_kws={'linewidth': 4},\n",
    "             label='Total')\n",
    "\n",
    "skew_ = df_analysis_02['q_current'].skew()\n",
    "kurt_ = df_analysis_02['q_current'].kurt()\n",
    "\n",
    "print ('Skewness: ', skew_)\n",
    "print ('Kurtosis: ', kurt_)"
   ]
  },
  {
   "cell_type": "code",
   "execution_count": 48,
   "metadata": {},
   "outputs": [
    {
     "name": "stdout",
     "output_type": "stream",
     "text": [
      "(51843, 5)\n"
     ]
    }
   ],
   "source": [
    "# its not normal with left skewness and high peak\n",
    "# it is advisable to use a log transformation\n",
    "\n",
    "df_analysis_02['q_current_log'] = np.log1p(df_analysis_02[['q_current']].values)\n",
    "print(df_analysis_02.shape)"
   ]
  },
  {
   "cell_type": "code",
   "execution_count": 49,
   "metadata": {},
   "outputs": [
    {
     "name": "stdout",
     "output_type": "stream",
     "text": [
      "Skewness:  -0.7131535428366159\n",
      "Kurtosis:  -0.43989371500706786\n"
     ]
    },
    {
     "data": {
      "image/png": "[encoded data removed]",
      "text/plain": [
       "<Figure size 648x288 with 1 Axes>"
      ]
     },
     "metadata": {
      "needs_background": "light"
     },
     "output_type": "display_data"
    }
   ],
   "source": [
    "#Defines the structure od the plot\n",
    "fig, axes = plt.subplots(figsize=(9, 4))\n",
    "fig.suptitle('Description for: q_current_log')\n",
    "\n",
    "#Histogram plot\n",
    "sns.distplot(df_analysis_02['q_current_log'],\n",
    "             hist=True, \n",
    "             bins=20, \n",
    "             color = 'darkred', \n",
    "             hist_kws={'edgecolor':'black'},\n",
    "             kde_kws={'linewidth': 4},\n",
    "             label='Total')\n",
    "\n",
    "skew_ = df_analysis_02['q_current_log'].skew()\n",
    "kurt_ = df_analysis_02['q_current_log'].kurt()\n",
    "\n",
    "print ('Skewness: ', skew_)\n",
    "print ('Kurtosis: ', kurt_)"
   ]
  },
  {
   "cell_type": "markdown",
   "metadata": {},
   "source": [
    "## It is better to treat with the variable wihtout any transformation"
   ]
  },
  {
   "cell_type": "code",
   "execution_count": 50,
   "metadata": {},
   "outputs": [
    {
     "name": "stdout",
     "output_type": "stream",
     "text": [
      "                index  q_current_bins\n",
      "4    01-(-0.001, 2.0]            2913\n",
      "0       02-(2.0, 4.0]            3396\n",
      "13      03-(4.0, 6.0]            2468\n",
      "19      04-(6.0, 8.0]            1720\n",
      "8      05-(8.0, 12.0]            2556\n",
      "11    06-(12.0, 17.0]            2537\n",
      "1     07-(17.0, 23.0]            2955\n",
      "17    08-(23.0, 27.0]            2220\n",
      "5     09-(27.0, 32.0]            2776\n",
      "2     10-(32.0, 37.0]            2949\n",
      "18    11-(37.0, 41.0]            2071\n",
      "3     12-(41.0, 47.0]            2942\n",
      "10    13-(47.0, 53.0]            2541\n",
      "16    14-(53.0, 59.0]            2421\n",
      "9     15-(59.0, 66.0]            2551\n",
      "14  16-(66.0, 74.333]            2461\n",
      "6   17-(74.333, 85.0]            2728\n",
      "15    18-(85.0, 96.5]            2457\n",
      "7    19-(96.5, 116.0]            2654\n",
      "12  20-(116.0, 152.0]            2527\n"
     ]
    }
   ],
   "source": [
    "# Compute the variable bins to stablishes its pareto\n",
    "\n",
    "df_varbins = df_analysis_02[['q_current']]\n",
    "df_varbins['q_current_bins'] = pd.qcut(df_varbins['q_current'], 20, duplicates='drop')\n",
    "df_varbins['q_current_bins'] = df_varbins['q_current_bins'].cat.codes.apply(lambda x: \"{:02d}\".format(x+1)) + '-' + df_varbins['q_current_bins'].astype(str)\n",
    "\n",
    "print(df_varbins['q_current_bins'].value_counts(dropna=False).reset_index().sort_values(['index']))"
   ]
  },
  {
   "cell_type": "markdown",
   "metadata": {},
   "source": [
    "# Bivariate observations"
   ]
  },
  {
   "cell_type": "code",
   "execution_count": 52,
   "metadata": {
    "scrolled": true
   },
   "outputs": [
    {
     "data": {
      "image/png": "[encoded data removed]",
      "text/plain": [
       "<Figure size 432x288 with 1 Axes>"
      ]
     },
     "metadata": {
      "needs_background": "light"
     },
     "output_type": "display_data"
    },
    {
     "data": {
      "image/png": "[encoded data removed]",
      "text/plain": [
       "<Figure size 432x288 with 1 Axes>"
      ]
     },
     "metadata": {
      "needs_background": "light"
     },
     "output_type": "display_data"
    }
   ],
   "source": [
    "for c in ls_numcols:\n",
    "    var=c\n",
    "    target='q_current'\n",
    "    df_data = df_analysis_02[[var,target]]\n",
    "    df_data.plot.scatter(x=var,y=target,ylim=(0,155))"
   ]
  },
  {
   "cell_type": "code",
   "execution_count": 63,
   "metadata": {},
   "outputs": [
    {
     "data": {
      "image/png": "[encoded data removed]",
      "text/plain": [
       "<Figure size 1080x360 with 2 Axes>"
      ]
     },
     "metadata": {
      "needs_background": "light"
     },
     "output_type": "display_data"
    },
    {
     "data": {
      "image/png": "[encoded data removed]",
      "text/plain": [
       "<Figure size 1080x360 with 2 Axes>"
      ]
     },
     "metadata": {
      "needs_background": "light"
     },
     "output_type": "display_data"
    }
   ],
   "source": [
    "ls_catcols = [\n",
    "    'date',\n",
    "    'store',\n",
    "]\n",
    "\n",
    "for c in ls_catcols:\n",
    "    var=c\n",
    "    target='q_current'\n",
    "    df_data = df_analysis_02[[var,target]]\n",
    "\n",
    "    fig, axes = plt.subplots(1,2,figsize=(15, 5))\n",
    "    fig = sns.boxplot(x=var,y=target, data=df_data, ax=axes[1])\n",
    "    fig.axis(ymin=0,ymax=155)\n",
    "    \n",
    "    #Histogram plot\n",
    "    sns.distplot(df_data[var],\n",
    "                 hist=True, \n",
    "                 kde=False,\n",
    "                 bins=10, \n",
    "                 color = 'darkred', \n",
    "                 hist_kws={'edgecolor':'black'},\n",
    "                 kde_kws={'linewidth': 4},\n",
    "                 label='Total',\n",
    "                 ax=axes[0])"
   ]
  },
  {
   "cell_type": "markdown",
   "metadata": {},
   "source": [
    "# Additional variable construction"
   ]
  },
  {
   "cell_type": "code",
   "execution_count": 54,
   "metadata": {},
   "outputs": [
    {
     "name": "stdout",
     "output_type": "stream",
     "text": [
      "    index   mes\n",
      "0       1  4464\n",
      "10      2  4032\n",
      "1       3  4464\n",
      "6       4  4320\n",
      "2       5  4464\n",
      "7       6  4320\n",
      "3       7  4464\n",
      "4       8  4464\n",
      "8       9  4320\n",
      "5      10  4464\n",
      "9      11  4320\n",
      "11     12  3747\n"
     ]
    }
   ],
   "source": [
    "\n",
    "def mes(x):\n",
    "    y = x['date'].month\n",
    "    return y\n",
    "\n",
    "df_analysis_02['mes'] = df_analysis_02.apply(lambda x: mes(x), axis=1)\n",
    "                           \n",
    "print(df_analysis_02['mes'].value_counts(dropna=False).reset_index().sort_values(['index']))    "
   ]
  },
  {
   "cell_type": "code",
   "execution_count": 55,
   "metadata": {},
   "outputs": [
    {
     "name": "stdout",
     "output_type": "stream",
     "text": [
      "   index  dia_semana\n",
      "3      0        7347\n",
      "4      1        7344\n",
      "5      2        7344\n",
      "6      3        7344\n",
      "0      4        7488\n",
      "1      5        7488\n",
      "2      6        7488\n"
     ]
    }
   ],
   "source": [
    "\n",
    "def dia_semana(x):\n",
    "    y = x['date'].weekday()\n",
    "    return y\n",
    "\n",
    "df_analysis_02['dia_semana'] = df_analysis_02.apply(lambda x: dia_semana(x), axis=1)\n",
    "                           \n",
    "print(df_analysis_02['dia_semana'].value_counts(dropna=False).reset_index().sort_values(['index'])) \n"
   ]
  },
  {
   "cell_type": "code",
   "execution_count": 57,
   "metadata": {},
   "outputs": [
    {
     "data": {
      "image/png": "[encoded data removed]",
      "text/plain": [
       "<Figure size 1080x360 with 2 Axes>"
      ]
     },
     "metadata": {
      "needs_background": "light"
     },
     "output_type": "display_data"
    },
    {
     "data": {
      "image/png": "[encoded data removed]",
      "text/plain": [
       "<Figure size 1080x360 with 2 Axes>"
      ]
     },
     "metadata": {
      "needs_background": "light"
     },
     "output_type": "display_data"
    }
   ],
   "source": [
    "#Bivariate observation on additional variables\n",
    "\n",
    "ls_catcols = [\n",
    "    'mes',\n",
    "    'dia_semana',\n",
    "]\n",
    "\n",
    "for c in ls_catcols:\n",
    "    \n",
    "    fig, axes = plt.subplots(1,2,figsize=(15, 5))\n",
    "    var=c\n",
    "    target='q_current'\n",
    "    df_data = df_analysis_02[[var,target]]\n",
    "\n",
    "    \n",
    "    fig = sns.boxplot(x=var,y=target, data=df_data, ax=axes[1])\n",
    "    fig.axis(ymin=0,ymax=155)\n",
    "    \n",
    "    #Histogram plot\n",
    "    sns.distplot(df_data[var].astype('float'),\n",
    "                 hist=True, \n",
    "                 kde=False,\n",
    "                 bins=5, \n",
    "                 color = 'darkred', \n",
    "                 hist_kws={'edgecolor':'black'},\n",
    "                 kde_kws={'linewidth': 4},\n",
    "                 label='Total',\n",
    "                 ax=axes[0])\n",
    "    \n",
    "    plt.show()\n",
    "    plt.close()"
   ]
  },
  {
   "cell_type": "markdown",
   "metadata": {},
   "source": [
    "## Seems that the proposed additional variables have no effect in explaining the target variable"
   ]
  },
  {
   "cell_type": "markdown",
   "metadata": {},
   "source": [
    "### The target variable seem a time series, no affected by time, maybe with some sort of moving average period, autoregressive period, and seasonability index\n",
    "\n",
    "### This gessing will be obseved in more details later"
   ]
  },
  {
   "cell_type": "markdown",
   "metadata": {},
   "source": [
    "# Correlation analysis"
   ]
  },
  {
   "cell_type": "code",
   "execution_count": 61,
   "metadata": {},
   "outputs": [],
   "source": [
    "corrmat = df_analysis_02.corr()\n",
    "#corrmat"
   ]
  },
  {
   "cell_type": "code",
   "execution_count": 62,
   "metadata": {},
   "outputs": [
    {
     "data": {
      "text/plain": [
       "<matplotlib.axes._subplots.AxesSubplot at 0x29c9f1f6ec8>"
      ]
     },
     "execution_count": 62,
     "metadata": {},
     "output_type": "execute_result"
    },
    {
     "data": {
      "image/png": "[encoded data removed]",
      "text/plain": [
       "<Figure size 864x648 with 2 Axes>"
      ]
     },
     "metadata": {
      "needs_background": "light"
     },
     "output_type": "display_data"
    }
   ],
   "source": [
    "f, ax = plt.subplots(figsize=(12,9))\n",
    "sns.heatmap(corrmat, vmax=0.8, square=True)"
   ]
  },
  {
   "cell_type": "code",
   "execution_count": 64,
   "metadata": {},
   "outputs": [
    {
     "data": {
      "text/plain": [
       "Index(['q_current', 'q_current_log', 'mes', 'dia_semana', 'store'], dtype='object')"
      ]
     },
     "execution_count": 64,
     "metadata": {},
     "output_type": "execute_result"
    }
   ],
   "source": [
    "k=10\n",
    "cols = corrmat.nlargest(k,'q_current')['q_current'].index\n",
    "cols"
   ]
  },
  {
   "cell_type": "code",
   "execution_count": 103,
   "metadata": {},
   "outputs": [
    {
     "name": "stdout",
     "output_type": "stream",
     "text": [
      "(186905, 11)\n"
     ]
    }
   ],
   "source": [
    "# Saving Point\n",
    "\n",
    "df_analysis_02.to_pickle(OUTPUT_DIR + 'df_vhf_s2.pkl')\n",
    "print(df_analysis_02.shape)"
   ]
  },
  {
   "cell_type": "code",
   "execution_count": null,
   "metadata": {},
   "outputs": [],
   "source": []
  }
 ],
 "metadata": {
  "kernelspec": {
   "display_name": "Python 3",
   "language": "python",
   "name": "python3"
  },
  "language_info": {
   "codemirror_mode": {
    "name": "ipython",
    "version": 3
   },
   "file_extension": ".py",
   "mimetype": "text/x-python",
   "name": "python",
   "nbconvert_exporter": "python",
   "pygments_lexer": "ipython3",
   "version": "3.7.4"
  }
 },
 "nbformat": 4,
 "nbformat_minor": 2
}
