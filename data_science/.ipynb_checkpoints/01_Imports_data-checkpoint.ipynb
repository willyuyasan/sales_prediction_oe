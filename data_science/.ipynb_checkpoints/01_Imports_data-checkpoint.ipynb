{
 "cells": [
  {
   "cell_type": "markdown",
   "metadata": {},
   "source": [
    "# Importing and fixing data format\n",
    "\n",
    "This notebook imports and fix the data format to an easy working flow for python code and data understanding"
   ]
  },
  {
   "cell_type": "code",
   "execution_count": 1,
   "metadata": {},
   "outputs": [],
   "source": [
    "#LOADS LIBRARIES\n",
    "import os\n",
    "import sys\n",
    "import warnings\n",
    "warnings.simplefilter('ignore')\n",
    "import pickle\n",
    "#import dill as pickle\n",
    "\n",
    "import numpy as np\n",
    "import pandas as pd\n",
    "import math\n",
    "\n",
    "import time \n",
    "import datetime\n",
    "from dateutil.relativedelta import relativedelta"
   ]
  },
  {
   "cell_type": "code",
   "execution_count": 2,
   "metadata": {},
   "outputs": [
    {
     "data": {
      "text/plain": [
       "'C:\\\\Users\\\\willi\\\\Documents\\\\EJERCICIOS\\\\sales_prediction_oe\\\\data_science'"
      ]
     },
     "execution_count": 2,
     "metadata": {},
     "output_type": "execute_result"
    }
   ],
   "source": [
    "os.getcwd()"
   ]
  },
  {
   "cell_type": "code",
   "execution_count": 3,
   "metadata": {},
   "outputs": [],
   "source": [
    "# Defines the storage directories\n",
    "\n",
    "INPUT_DIR = os.getcwd() + '/data/'\n",
    "OUTPUT_DIR = os.getcwd() + '/results/'"
   ]
  },
  {
   "cell_type": "markdown",
   "metadata": {},
   "source": [
    "# Importing the data"
   ]
  },
  {
   "cell_type": "code",
   "execution_count": 4,
   "metadata": {},
   "outputs": [
    {
     "name": "stdout",
     "output_type": "stream",
     "text": [
      "(51843, 4)\n",
      "                   date q_current Store set_description\n",
      "0         1/1/2021 0:00        87     1         1_TRAIN\n",
      "1         1/1/2021 0:00       145     5         1_TRAIN\n",
      "2         1/1/2021 0:00        49     9         1_TRAIN\n",
      "3         1/1/2021 0:30       102     1         1_TRAIN\n",
      "4         1/1/2021 0:30       170     5         1_TRAIN\n",
      "...                 ...       ...   ...             ...\n",
      "51838  12/26/2021 23:30        65     5         1_TRAIN\n",
      "51839  12/26/2021 23:30        31     9         1_TRAIN\n",
      "51840   12/27/2021 0:00        55     1         1_TRAIN\n",
      "51841   12/27/2021 0:00        73     5         1_TRAIN\n",
      "51842   12/27/2021 0:00        25     9         1_TRAIN\n",
      "\n",
      "[51843 rows x 4 columns]\n"
     ]
    }
   ],
   "source": [
    "#Importing the TRAIN dataset\n",
    "\n",
    "FILE_NAME = 'dataset_train.csv'\n",
    "df_input_01 = pd.read_csv(INPUT_DIR + FILE_NAME, encoding='latin-1', sep=',', dtype='str')\n",
    "df_input_01['set_description'] = '1_TRAIN'\n",
    "\n",
    "print(df_input_01.shape)\n",
    "print(df_input_01)\n"
   ]
  },
  {
   "cell_type": "code",
   "execution_count": 5,
   "metadata": {},
   "outputs": [
    {
     "name": "stdout",
     "output_type": "stream",
     "text": [
      "(2304, 4)\n",
      "                 date q_predicted Store set_description\n",
      "0      1/10/2022 0:00           0     1    2_PREDICTION\n",
      "1      1/10/2022 0:00           0     5    2_PREDICTION\n",
      "2      1/10/2022 0:00           0     9    2_PREDICTION\n",
      "3      1/10/2022 0:30           0     1    2_PREDICTION\n",
      "4      1/10/2022 0:30           0     5    2_PREDICTION\n",
      "...               ...         ...   ...             ...\n",
      "2299  1/25/2022 23:00           0     5    2_PREDICTION\n",
      "2300  1/25/2022 23:00           0     9    2_PREDICTION\n",
      "2301  1/25/2022 23:30           0     1    2_PREDICTION\n",
      "2302  1/25/2022 23:30           0     5    2_PREDICTION\n",
      "2303  1/25/2022 23:30           0     9    2_PREDICTION\n",
      "\n",
      "[2304 rows x 4 columns]\n"
     ]
    }
   ],
   "source": [
    "#Importing the PREDICTION dataset\n",
    "\n",
    "FILE_NAME = 'dataset_predict.csv'\n",
    "df_input_02 = pd.read_csv(INPUT_DIR + FILE_NAME, encoding='latin-1', sep=',', dtype='str')\n",
    "df_input_02['set_description'] = '2_PREDICTION'\n",
    "\n",
    "print(df_input_02.shape)\n",
    "print(df_input_02)"
   ]
  },
  {
   "cell_type": "code",
   "execution_count": 6,
   "metadata": {},
   "outputs": [
    {
     "name": "stdout",
     "output_type": "stream",
     "text": [
      "(54147, 5)\n",
      "          index  set_description\n",
      "0       1_TRAIN            51843\n",
      "1  2_PREDICTION             2304\n"
     ]
    }
   ],
   "source": [
    "#Append TRAIN and PREDICT data set\n",
    "#This joint is made to reduce importing code, but it is clear that TRAIN and PREDICT should be treated by appart\n",
    "\n",
    "df_input = df_input_01.append(df_input_02).copy()\n",
    "df_input = df_input.reset_index(drop=True)\n",
    "print(df_input.shape)\n",
    "\n",
    "print(df_input['set_description'].value_counts(dropna=False).reset_index().sort_values(['index'],ascending = True))\n"
   ]
  },
  {
   "cell_type": "code",
   "execution_count": 7,
   "metadata": {},
   "outputs": [
    {
     "data": {
      "text/plain": [
       "['date', 'q_current', 'Store', 'set_description', 'q_predicted']"
      ]
     },
     "execution_count": 7,
     "metadata": {},
     "output_type": "execute_result"
    }
   ],
   "source": [
    "df_input.columns.tolist()"
   ]
  },
  {
   "cell_type": "code",
   "execution_count": 8,
   "metadata": {},
   "outputs": [
    {
     "name": "stdout",
     "output_type": "stream",
     "text": [
      "(54147, 5)\n"
     ]
    }
   ],
   "source": [
    "df_raw = df_input.copy()\n",
    "print(df_raw.shape)"
   ]
  },
  {
   "cell_type": "markdown",
   "metadata": {},
   "source": [
    "# Adjusting the formats of the data"
   ]
  },
  {
   "cell_type": "code",
   "execution_count": 9,
   "metadata": {},
   "outputs": [
    {
     "name": "stdout",
     "output_type": "stream",
     "text": [
      "1 - date\n",
      "2 - q_current\n",
      "3 - store\n",
      "4 - set_description\n",
      "5 - q_predicted\n"
     ]
    }
   ],
   "source": [
    "#ADJUSTS VARIABLE NAMES\n",
    "\n",
    "df_input = df_raw.copy()\n",
    "\n",
    "D_COLS_01 = df_input.dtypes.reset_index()['index']\n",
    "\n",
    "D_COLS =[]\n",
    "D_VARS = {}\n",
    "for x in D_COLS_01:\n",
    "    D_NAME = x.strip().lower()\n",
    "    D_NAME = D_NAME.replace(\" \", '_')\n",
    "    D_NAME = D_NAME.replace(\".\", '')\n",
    "    D_NAME = D_NAME.replace(\"�\", '')\n",
    "    D_NAME = D_NAME.replace(\"-\", '_')\n",
    "    D_NAME = D_NAME.replace(\"/\", '_')\n",
    "    \n",
    "    ls_dupnames = [x for x in D_COLS if D_NAME in x]\n",
    "    if len(ls_dupnames)>0:\n",
    "        D_NAME = D_NAME + '_' + str(len(ls_dupnames))\n",
    "        \n",
    "    \n",
    "    d = {D_NAME:str}\n",
    "    D_VARS.update(d)\n",
    "    \n",
    "    D_COLS.append(D_NAME)\n",
    "\n",
    "\n",
    "df_input.columns = D_VARS\n",
    "\n",
    "df_raw_01 = df_input.copy()\n",
    "\n",
    "i = 0\n",
    "for c in df_raw_01.columns.tolist():\n",
    "    i = i +1\n",
    "    print(i, '-', c)"
   ]
  },
  {
   "cell_type": "code",
   "execution_count": 10,
   "metadata": {},
   "outputs": [
    {
     "data": {
      "text/html": [
       "<div>\n",
       "<style scoped>\n",
       "    .dataframe tbody tr th:only-of-type {\n",
       "        vertical-align: middle;\n",
       "    }\n",
       "\n",
       "    .dataframe tbody tr th {\n",
       "        vertical-align: top;\n",
       "    }\n",
       "\n",
       "    .dataframe thead th {\n",
       "        text-align: right;\n",
       "    }\n",
       "</style>\n",
       "<table border=\"1\" class=\"dataframe\">\n",
       "  <thead>\n",
       "    <tr style=\"text-align: right;\">\n",
       "      <th></th>\n",
       "      <th>index</th>\n",
       "      <th>0</th>\n",
       "    </tr>\n",
       "  </thead>\n",
       "  <tbody>\n",
       "  </tbody>\n",
       "</table>\n",
       "</div>"
      ],
      "text/plain": [
       "Empty DataFrame\n",
       "Columns: [index, 0]\n",
       "Index: []"
      ]
     },
     "execution_count": 10,
     "metadata": {},
     "output_type": "execute_result"
    }
   ],
   "source": [
    "df_informats = df_raw_01.dtypes.reset_index()\n",
    "df_informats = df_informats[df_informats[0]!='object']\n",
    "\n",
    "df_informats"
   ]
  },
  {
   "cell_type": "code",
   "execution_count": 11,
   "metadata": {},
   "outputs": [],
   "source": [
    "# Defines the main formats of the variables\n",
    "\n",
    "\n",
    "#Lists numerical variables\n",
    "LS_NUMVAR = [\n",
    "    'q_current',\n",
    "    'store',\n",
    "    'q_predicted',\n",
    "]\n",
    "\n",
    "#List of categorical variables\n",
    "LS_CATVAR = [\n",
    "    'date',\n",
    "    'set_description',\n",
    "]"
   ]
  },
  {
   "cell_type": "code",
   "execution_count": 12,
   "metadata": {
    "scrolled": true
   },
   "outputs": [
    {
     "name": "stdout",
     "output_type": "stream",
     "text": [
      "Variable transformed: date\n",
      "Variable transformed: set_description\n",
      "\n",
      "\n",
      "(54147, 5)\n",
      "\n",
      "\n",
      "q_current          object\n",
      "store              object\n",
      "q_predicted        object\n",
      "date               object\n",
      "set_description    object\n",
      "dtype: object\n",
      "\n",
      "\n"
     ]
    },
    {
     "data": {
      "text/html": [
       "<div>\n",
       "<style scoped>\n",
       "    .dataframe tbody tr th:only-of-type {\n",
       "        vertical-align: middle;\n",
       "    }\n",
       "\n",
       "    .dataframe tbody tr th {\n",
       "        vertical-align: top;\n",
       "    }\n",
       "\n",
       "    .dataframe thead th {\n",
       "        text-align: right;\n",
       "    }\n",
       "</style>\n",
       "<table border=\"1\" class=\"dataframe\">\n",
       "  <thead>\n",
       "    <tr style=\"text-align: right;\">\n",
       "      <th></th>\n",
       "      <th>date</th>\n",
       "      <th>set_description</th>\n",
       "    </tr>\n",
       "  </thead>\n",
       "  <tbody>\n",
       "    <tr>\n",
       "      <th>0</th>\n",
       "      <td>1/1/2021 0:00</td>\n",
       "      <td>1_TRAIN</td>\n",
       "    </tr>\n",
       "    <tr>\n",
       "      <th>1</th>\n",
       "      <td>1/1/2021 0:00</td>\n",
       "      <td>1_TRAIN</td>\n",
       "    </tr>\n",
       "    <tr>\n",
       "      <th>2</th>\n",
       "      <td>1/1/2021 0:00</td>\n",
       "      <td>1_TRAIN</td>\n",
       "    </tr>\n",
       "    <tr>\n",
       "      <th>3</th>\n",
       "      <td>1/1/2021 0:30</td>\n",
       "      <td>1_TRAIN</td>\n",
       "    </tr>\n",
       "    <tr>\n",
       "      <th>4</th>\n",
       "      <td>1/1/2021 0:30</td>\n",
       "      <td>1_TRAIN</td>\n",
       "    </tr>\n",
       "    <tr>\n",
       "      <th>5</th>\n",
       "      <td>1/1/2021 0:30</td>\n",
       "      <td>1_TRAIN</td>\n",
       "    </tr>\n",
       "    <tr>\n",
       "      <th>6</th>\n",
       "      <td>1/1/2021 1:00</td>\n",
       "      <td>1_TRAIN</td>\n",
       "    </tr>\n",
       "    <tr>\n",
       "      <th>7</th>\n",
       "      <td>1/1/2021 1:00</td>\n",
       "      <td>1_TRAIN</td>\n",
       "    </tr>\n",
       "    <tr>\n",
       "      <th>8</th>\n",
       "      <td>1/1/2021 1:00</td>\n",
       "      <td>1_TRAIN</td>\n",
       "    </tr>\n",
       "    <tr>\n",
       "      <th>9</th>\n",
       "      <td>1/1/2021 1:30</td>\n",
       "      <td>1_TRAIN</td>\n",
       "    </tr>\n",
       "  </tbody>\n",
       "</table>\n",
       "</div>"
      ],
      "text/plain": [
       "            date set_description\n",
       "0  1/1/2021 0:00         1_TRAIN\n",
       "1  1/1/2021 0:00         1_TRAIN\n",
       "2  1/1/2021 0:00         1_TRAIN\n",
       "3  1/1/2021 0:30         1_TRAIN\n",
       "4  1/1/2021 0:30         1_TRAIN\n",
       "5  1/1/2021 0:30         1_TRAIN\n",
       "6  1/1/2021 1:00         1_TRAIN\n",
       "7  1/1/2021 1:00         1_TRAIN\n",
       "8  1/1/2021 1:00         1_TRAIN\n",
       "9  1/1/2021 1:30         1_TRAIN"
      ]
     },
     "execution_count": 12,
     "metadata": {},
     "output_type": "execute_result"
    }
   ],
   "source": [
    "# TRANSFORMS CATEGORICAL VARIABLES\n",
    "\n",
    "df_input = df_raw_01.copy() \n",
    "\n",
    "def convertscat(x):\n",
    "    try:\n",
    "        y = round(x) #IF THE CATEGORY LOOK LIKE A NUMBER, BETTER ROUND IT\n",
    "        y = str(y).strip() \n",
    "    except:\n",
    "        try:\n",
    "            y = str(x).upper().strip() #THE CATEGORY IS TRANSFORMED ONTO UPCASE AND REMOVED THE BLANK TAILS\n",
    "        except:\n",
    "            y = np.nan #PUT A NAN IN CASE OF NOT CONVERSION\n",
    "    return y\n",
    "\n",
    "\n",
    "for s in LS_CATVAR:\n",
    "    CATVAR = df_input[s].apply(lambda x: convertscat(x))\n",
    "    df_input = df_input.drop(columns=[s])\n",
    "    df_input[s] = CATVAR.astype(str)\n",
    "    \n",
    "    print('Variable transformed: ' + str(s))\n",
    "\n",
    "df_raw_02 = df_input.copy()\n",
    "del(df_input)\n",
    "\n",
    "print('\\n')\n",
    "print(df_raw_02.shape)\n",
    "print('\\n')\n",
    "print(df_raw_02.dtypes)\n",
    "print('\\n')\n",
    "df_raw_02[LS_CATVAR].head(10)"
   ]
  },
  {
   "cell_type": "code",
   "execution_count": 13,
   "metadata": {
    "scrolled": true
   },
   "outputs": [
    {
     "name": "stdout",
     "output_type": "stream",
     "text": [
      "Variable transformed: q_current\n",
      "Variable transformed: store\n",
      "Variable transformed: q_predicted\n",
      "\n",
      "\n",
      "(54147, 5)\n",
      "\n",
      "\n",
      "date                object\n",
      "set_description     object\n",
      "q_current          float64\n",
      "store              float64\n",
      "q_predicted        float64\n",
      "dtype: object\n",
      "\n",
      "\n"
     ]
    },
    {
     "data": {
      "text/html": [
       "<div>\n",
       "<style scoped>\n",
       "    .dataframe tbody tr th:only-of-type {\n",
       "        vertical-align: middle;\n",
       "    }\n",
       "\n",
       "    .dataframe tbody tr th {\n",
       "        vertical-align: top;\n",
       "    }\n",
       "\n",
       "    .dataframe thead th {\n",
       "        text-align: right;\n",
       "    }\n",
       "</style>\n",
       "<table border=\"1\" class=\"dataframe\">\n",
       "  <thead>\n",
       "    <tr style=\"text-align: right;\">\n",
       "      <th></th>\n",
       "      <th>q_current</th>\n",
       "      <th>store</th>\n",
       "      <th>q_predicted</th>\n",
       "    </tr>\n",
       "  </thead>\n",
       "  <tbody>\n",
       "    <tr>\n",
       "      <th>0</th>\n",
       "      <td>87.0</td>\n",
       "      <td>1.0</td>\n",
       "      <td>NaN</td>\n",
       "    </tr>\n",
       "    <tr>\n",
       "      <th>1</th>\n",
       "      <td>145.0</td>\n",
       "      <td>5.0</td>\n",
       "      <td>NaN</td>\n",
       "    </tr>\n",
       "    <tr>\n",
       "      <th>2</th>\n",
       "      <td>49.0</td>\n",
       "      <td>9.0</td>\n",
       "      <td>NaN</td>\n",
       "    </tr>\n",
       "    <tr>\n",
       "      <th>3</th>\n",
       "      <td>102.0</td>\n",
       "      <td>1.0</td>\n",
       "      <td>NaN</td>\n",
       "    </tr>\n",
       "    <tr>\n",
       "      <th>4</th>\n",
       "      <td>170.0</td>\n",
       "      <td>5.0</td>\n",
       "      <td>NaN</td>\n",
       "    </tr>\n",
       "    <tr>\n",
       "      <th>5</th>\n",
       "      <td>43.0</td>\n",
       "      <td>9.0</td>\n",
       "      <td>NaN</td>\n",
       "    </tr>\n",
       "    <tr>\n",
       "      <th>6</th>\n",
       "      <td>120.0</td>\n",
       "      <td>1.0</td>\n",
       "      <td>NaN</td>\n",
       "    </tr>\n",
       "    <tr>\n",
       "      <th>7</th>\n",
       "      <td>165.0</td>\n",
       "      <td>5.0</td>\n",
       "      <td>NaN</td>\n",
       "    </tr>\n",
       "    <tr>\n",
       "      <th>8</th>\n",
       "      <td>45.0</td>\n",
       "      <td>9.0</td>\n",
       "      <td>NaN</td>\n",
       "    </tr>\n",
       "    <tr>\n",
       "      <th>9</th>\n",
       "      <td>121.0</td>\n",
       "      <td>1.0</td>\n",
       "      <td>NaN</td>\n",
       "    </tr>\n",
       "  </tbody>\n",
       "</table>\n",
       "</div>"
      ],
      "text/plain": [
       "   q_current  store  q_predicted\n",
       "0       87.0    1.0          NaN\n",
       "1      145.0    5.0          NaN\n",
       "2       49.0    9.0          NaN\n",
       "3      102.0    1.0          NaN\n",
       "4      170.0    5.0          NaN\n",
       "5       43.0    9.0          NaN\n",
       "6      120.0    1.0          NaN\n",
       "7      165.0    5.0          NaN\n",
       "8       45.0    9.0          NaN\n",
       "9      121.0    1.0          NaN"
      ]
     },
     "execution_count": 13,
     "metadata": {},
     "output_type": "execute_result"
    }
   ],
   "source": [
    "#TRANSFORMS NUMERICAL VARIABLES\n",
    "\n",
    "df_input = df_raw_02.copy() \n",
    "\n",
    "def converts(x):\n",
    "    try:\n",
    "        y = str(x)                  #FIRST THE VARIABLES IS LOOK AS STRING\n",
    "        y = y.replace(\"$\", '')      #REMOVES THE $ SIMBOL\n",
    "        y = y.replace(\",\", '.')     #Replace the , for . (depends of the numeric format of origin)\n",
    "        #y = y.replace(\",\", '')     #Replace the , for '' (depends of the numeric format of origin)\n",
    "        y = float(y)                # Converts to float\n",
    "    except:\n",
    "        y = np.nan\n",
    "    return y\n",
    "\n",
    "\n",
    "for s in LS_NUMVAR:\n",
    "    NUMVAR = df_input[s].apply(lambda x: converts(x))\n",
    "    df_input = df_input.drop(columns=[s])\n",
    "    df_input[s] = NUMVAR.astype(float)\n",
    "    \n",
    "    \n",
    "    \n",
    "    print('Variable transformed: ' + str(s))\n",
    "\n",
    "df_raw_03 = df_input.copy()\n",
    "del(df_input)\n",
    "\n",
    "print('\\n')\n",
    "print(df_raw_03.shape)\n",
    "print('\\n')\n",
    "print(df_raw_03.dtypes)\n",
    "print('\\n')\n",
    "df_raw_03[LS_NUMVAR].head(10)"
   ]
  },
  {
   "cell_type": "code",
   "execution_count": 14,
   "metadata": {
    "scrolled": true
   },
   "outputs": [
    {
     "name": "stdout",
     "output_type": "stream",
     "text": [
      "     index  q_current\n",
      "0      NaN       2304\n",
      "1      3.0       1740\n",
      "2      2.0       1724\n",
      "3      4.0       1656\n",
      "4      5.0       1358\n",
      "..     ...        ...\n",
      "251  254.0          1\n",
      "252  263.0          1\n",
      "253  242.0          1\n",
      "254  255.0          1\n",
      "255  258.0          1\n",
      "\n",
      "[256 rows x 2 columns]\n",
      "    index  q_current\n",
      "0     NaN       2304\n",
      "1       3       1740\n",
      "2       2       1724\n",
      "3       4       1656\n",
      "4       5       1358\n",
      "..    ...        ...\n",
      "251   254          1\n",
      "252   263          1\n",
      "253   242          1\n",
      "254   255          1\n",
      "255   258          1\n",
      "\n",
      "[256 rows x 2 columns]\n",
      "   index  store\n",
      "0    1.0  18049\n",
      "1    5.0  18049\n",
      "2    9.0  18049\n",
      "  index  store\n",
      "0     1  18049\n",
      "1     5  18049\n",
      "2     9  18049\n",
      "   index  q_predicted\n",
      "0    NaN        51843\n",
      "1    0.0         2304\n",
      "  index  q_predicted\n",
      "0   NaN        51843\n",
      "1     0         2304\n"
     ]
    }
   ],
   "source": [
    "#VERIFIES THE NUMERICAL CONVERSION \n",
    "\n",
    "DF_INPUT = df_raw_03.copy()\n",
    "DF_INPUT2 = df_raw_02.copy()\n",
    "\n",
    "for c in LS_NUMVAR:\n",
    "    print(DF_INPUT[c].value_counts(dropna=False).reset_index().sort_values([c],ascending = False))\n",
    "    print(DF_INPUT2[c].value_counts(dropna=False).reset_index().sort_values([c],ascending = False))"
   ]
  },
  {
   "cell_type": "code",
   "execution_count": 15,
   "metadata": {},
   "outputs": [
    {
     "data": {
      "text/html": [
       "<div>\n",
       "<style scoped>\n",
       "    .dataframe tbody tr th:only-of-type {\n",
       "        vertical-align: middle;\n",
       "    }\n",
       "\n",
       "    .dataframe tbody tr th {\n",
       "        vertical-align: top;\n",
       "    }\n",
       "\n",
       "    .dataframe thead th {\n",
       "        text-align: right;\n",
       "    }\n",
       "</style>\n",
       "<table border=\"1\" class=\"dataframe\">\n",
       "  <thead>\n",
       "    <tr style=\"text-align: right;\">\n",
       "      <th></th>\n",
       "      <th>date</th>\n",
       "    </tr>\n",
       "  </thead>\n",
       "  <tbody>\n",
       "    <tr>\n",
       "      <th>0</th>\n",
       "      <td>1/1/2021 0:00</td>\n",
       "    </tr>\n",
       "    <tr>\n",
       "      <th>1</th>\n",
       "      <td>1/1/2021 0:00</td>\n",
       "    </tr>\n",
       "    <tr>\n",
       "      <th>2</th>\n",
       "      <td>1/1/2021 0:00</td>\n",
       "    </tr>\n",
       "    <tr>\n",
       "      <th>3</th>\n",
       "      <td>1/1/2021 0:30</td>\n",
       "    </tr>\n",
       "    <tr>\n",
       "      <th>4</th>\n",
       "      <td>1/1/2021 0:30</td>\n",
       "    </tr>\n",
       "    <tr>\n",
       "      <th>...</th>\n",
       "      <td>...</td>\n",
       "    </tr>\n",
       "    <tr>\n",
       "      <th>54142</th>\n",
       "      <td>1/25/2022 23:00</td>\n",
       "    </tr>\n",
       "    <tr>\n",
       "      <th>54143</th>\n",
       "      <td>1/25/2022 23:00</td>\n",
       "    </tr>\n",
       "    <tr>\n",
       "      <th>54144</th>\n",
       "      <td>1/25/2022 23:30</td>\n",
       "    </tr>\n",
       "    <tr>\n",
       "      <th>54145</th>\n",
       "      <td>1/25/2022 23:30</td>\n",
       "    </tr>\n",
       "    <tr>\n",
       "      <th>54146</th>\n",
       "      <td>1/25/2022 23:30</td>\n",
       "    </tr>\n",
       "  </tbody>\n",
       "</table>\n",
       "<p>54147 rows × 1 columns</p>\n",
       "</div>"
      ],
      "text/plain": [
       "                  date\n",
       "0        1/1/2021 0:00\n",
       "1        1/1/2021 0:00\n",
       "2        1/1/2021 0:00\n",
       "3        1/1/2021 0:30\n",
       "4        1/1/2021 0:30\n",
       "...                ...\n",
       "54142  1/25/2022 23:00\n",
       "54143  1/25/2022 23:00\n",
       "54144  1/25/2022 23:30\n",
       "54145  1/25/2022 23:30\n",
       "54146  1/25/2022 23:30\n",
       "\n",
       "[54147 rows x 1 columns]"
      ]
     },
     "execution_count": 15,
     "metadata": {},
     "output_type": "execute_result"
    }
   ],
   "source": [
    "# Stablishes Date variables\n",
    "\n",
    "D_DATEVARS = [\n",
    "    'date',\n",
    "]\n",
    "\n",
    "df_raw_03[D_DATEVARS]"
   ]
  },
  {
   "cell_type": "code",
   "execution_count": 16,
   "metadata": {},
   "outputs": [
    {
     "name": "stdout",
     "output_type": "stream",
     "text": [
      "Variable transformed: date\n"
     ]
    }
   ],
   "source": [
    "#FIXING DATE VARIABLES\n",
    "\n",
    "df_input = df_raw_03.copy()\n",
    "\n",
    "\n",
    "def validdate(x,v):\n",
    "    \n",
    "    try:\n",
    "        x1 = x[v].split('/')\n",
    "    except:\n",
    "        x1 = None\n",
    "        \n",
    "    y1 = None\n",
    "        \n",
    "    try:\n",
    "        year = int(x1[2][0:4])\n",
    "        month = int(x1[0])\n",
    "        day = int(x1[1])\n",
    "        \n",
    "        y1 = datetime.date(year ,month , day)\n",
    "        \n",
    "    except:\n",
    "        y1 = None\n",
    "\n",
    "    return y1\n",
    "\n",
    "\n",
    "for v in D_DATEVARS:\n",
    "    \n",
    "    DF_DATE = df_input.apply(lambda x: validdate(x,v),axis=1)\n",
    "    DF_DATE = pd.DataFrame(pd.to_datetime(DF_DATE, errors='coerce'))\n",
    "    \n",
    "    DS_INPUT = df_input.drop(columns=[v])\n",
    "    df_input[v] = DF_DATE\n",
    "    \n",
    "    print('Variable transformed: ' + str(v)) \n",
    "\n",
    "    \n",
    "df_raw_05 = df_input.copy()\n",
    "del(df_input)"
   ]
  },
  {
   "cell_type": "code",
   "execution_count": 17,
   "metadata": {
    "scrolled": true
   },
   "outputs": [
    {
     "data": {
      "text/html": [
       "<div>\n",
       "<style scoped>\n",
       "    .dataframe tbody tr th:only-of-type {\n",
       "        vertical-align: middle;\n",
       "    }\n",
       "\n",
       "    .dataframe tbody tr th {\n",
       "        vertical-align: top;\n",
       "    }\n",
       "\n",
       "    .dataframe thead th {\n",
       "        text-align: right;\n",
       "    }\n",
       "</style>\n",
       "<table border=\"1\" class=\"dataframe\">\n",
       "  <thead>\n",
       "    <tr style=\"text-align: right;\">\n",
       "      <th></th>\n",
       "      <th>date</th>\n",
       "    </tr>\n",
       "  </thead>\n",
       "  <tbody>\n",
       "    <tr>\n",
       "      <th>0</th>\n",
       "      <td>2021-01-01</td>\n",
       "    </tr>\n",
       "    <tr>\n",
       "      <th>1</th>\n",
       "      <td>2021-01-01</td>\n",
       "    </tr>\n",
       "    <tr>\n",
       "      <th>2</th>\n",
       "      <td>2021-01-01</td>\n",
       "    </tr>\n",
       "    <tr>\n",
       "      <th>3</th>\n",
       "      <td>2021-01-01</td>\n",
       "    </tr>\n",
       "    <tr>\n",
       "      <th>4</th>\n",
       "      <td>2021-01-01</td>\n",
       "    </tr>\n",
       "    <tr>\n",
       "      <th>...</th>\n",
       "      <td>...</td>\n",
       "    </tr>\n",
       "    <tr>\n",
       "      <th>54142</th>\n",
       "      <td>2022-01-25</td>\n",
       "    </tr>\n",
       "    <tr>\n",
       "      <th>54143</th>\n",
       "      <td>2022-01-25</td>\n",
       "    </tr>\n",
       "    <tr>\n",
       "      <th>54144</th>\n",
       "      <td>2022-01-25</td>\n",
       "    </tr>\n",
       "    <tr>\n",
       "      <th>54145</th>\n",
       "      <td>2022-01-25</td>\n",
       "    </tr>\n",
       "    <tr>\n",
       "      <th>54146</th>\n",
       "      <td>2022-01-25</td>\n",
       "    </tr>\n",
       "  </tbody>\n",
       "</table>\n",
       "<p>54147 rows × 1 columns</p>\n",
       "</div>"
      ],
      "text/plain": [
       "            date\n",
       "0     2021-01-01\n",
       "1     2021-01-01\n",
       "2     2021-01-01\n",
       "3     2021-01-01\n",
       "4     2021-01-01\n",
       "...          ...\n",
       "54142 2022-01-25\n",
       "54143 2022-01-25\n",
       "54144 2022-01-25\n",
       "54145 2022-01-25\n",
       "54146 2022-01-25\n",
       "\n",
       "[54147 rows x 1 columns]"
      ]
     },
     "execution_count": 17,
     "metadata": {},
     "output_type": "execute_result"
    }
   ],
   "source": [
    "df_raw_05[D_DATEVARS]"
   ]
  },
  {
   "cell_type": "code",
   "execution_count": 19,
   "metadata": {},
   "outputs": [
    {
     "name": "stdout",
     "output_type": "stream",
     "text": [
      "         index  date\n",
      "375 2022-01-25   144\n",
      "121 2022-01-24   144\n",
      "122 2022-01-23   144\n",
      "123 2022-01-22   144\n",
      "124 2022-01-21   144\n",
      "..         ...   ...\n",
      "255 2021-01-05   144\n",
      "256 2021-01-04   144\n",
      "257 2021-01-03   144\n",
      "24  2021-01-02   144\n",
      "0   2021-01-01   144\n",
      "\n",
      "[377 rows x 2 columns]\n"
     ]
    }
   ],
   "source": [
    "print(df_raw_05['date'].value_counts(dropna=False).reset_index().sort_values(['index'],ascending = False))"
   ]
  },
  {
   "cell_type": "code",
   "execution_count": 20,
   "metadata": {},
   "outputs": [
    {
     "name": "stdout",
     "output_type": "stream",
     "text": [
      "Number of Suggested Numerical Variables: 3\n",
      "Number of Suggested Categorical Variables: 2\n",
      "Number of Final Date Variables: 1\n"
     ]
    }
   ],
   "source": [
    "#REPORTS THE FINAL FORMAT FOR THE VARIABLES\n",
    "df_input = df_raw_05.copy()\n",
    "\n",
    "DF_FCOLUMNS = df_input.dtypes.reset_index()\n",
    "DF_FCOLUMNS = DF_FCOLUMNS.rename(columns={'index':'INPUT_VAR',0:'MANDATORY_FORMAT'})\n",
    "\n",
    "#Final number of numerical and categorical variables\n",
    "\n",
    "Q_NUMVARS = len(DF_FCOLUMNS[DF_FCOLUMNS['MANDATORY_FORMAT'].astype(str).str.contains('float|int')])\n",
    "Q_CATARS = len(DF_FCOLUMNS[DF_FCOLUMNS['MANDATORY_FORMAT'].astype(str).str.contains('float|int')==False])\n",
    "Q_DATEARS = len(DF_FCOLUMNS[DF_FCOLUMNS['MANDATORY_FORMAT'].astype(str).str.contains('date')])\n",
    "\n",
    "print('Number of Suggested Numerical Variables: ' + str(Q_NUMVARS))   \n",
    "print('Number of Suggested Categorical Variables: ' + str(Q_CATARS))\n",
    "print('Number of Final Date Variables: ' + str(Q_DATEARS)) "
   ]
  },
  {
   "cell_type": "code",
   "execution_count": 21,
   "metadata": {},
   "outputs": [
    {
     "name": "stdout",
     "output_type": "stream",
     "text": [
      "(54147, 5)\n",
      "\n",
      "\n",
      "1 - date\n",
      "2 - set_description\n",
      "3 - q_current\n",
      "4 - store\n",
      "5 - q_predicted\n",
      "\n",
      "\n",
      "date               datetime64[ns]\n",
      "set_description            object\n",
      "q_current                 float64\n",
      "store                     float64\n",
      "q_predicted               float64\n",
      "dtype: object\n"
     ]
    }
   ],
   "source": [
    "# Data sumary\n",
    "\n",
    "print(df_raw_05.shape)\n",
    "print('\\n')\n",
    "\n",
    "i = 0\n",
    "for c in df_raw_05.columns.tolist():\n",
    "    i = i +1\n",
    "    print(i, '-', c)\n",
    "\n",
    "print('\\n')\n",
    "print(df_raw_05.dtypes)\n"
   ]
  },
  {
   "cell_type": "code",
   "execution_count": 22,
   "metadata": {},
   "outputs": [],
   "source": [
    "# Saving Point\n",
    "\n",
    "df_raw_05.to_pickle(OUTPUT_DIR + 'df_temporalsales_s1.pkl')"
   ]
  },
  {
   "cell_type": "code",
   "execution_count": null,
   "metadata": {},
   "outputs": [],
   "source": []
  }
 ],
 "metadata": {
  "kernelspec": {
   "display_name": "Python 3",
   "language": "python",
   "name": "python3"
  },
  "language_info": {
   "codemirror_mode": {
    "name": "ipython",
    "version": 3
   },
   "file_extension": ".py",
   "mimetype": "text/x-python",
   "name": "python",
   "nbconvert_exporter": "python",
   "pygments_lexer": "ipython3",
   "version": "3.7.4"
  }
 },
 "nbformat": 4,
 "nbformat_minor": 4
}
